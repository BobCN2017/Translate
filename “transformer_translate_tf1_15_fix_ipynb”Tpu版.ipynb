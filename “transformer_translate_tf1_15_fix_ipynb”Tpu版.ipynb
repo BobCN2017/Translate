{
  "nbformat": 4,
  "nbformat_minor": 0,
  "metadata": {
    "accelerator": "TPU",
    "colab": {
      "name": "“transformer_translate_tf1_15_fix_ipynb”Tpu版.ipynb",
      "provenance": [],
      "collapsed_sections": [],
      "include_colab_link": true
    },
    "kernelspec": {
      "name": "python3",
      "display_name": "Python 3"
    }
  },
  "cells": [
    {
      "cell_type": "markdown",
      "metadata": {
        "id": "view-in-github",
        "colab_type": "text"
      },
      "source": [
        "<a href=\"https://colab.research.google.com/github/BobCN2017/Translate/blob/master/%E2%80%9Ctransformer_translate_tf1_15_fix_ipynb%E2%80%9DTpu%E7%89%88.ipynb\" target=\"_parent\"><img src=\"https://colab.research.google.com/assets/colab-badge.svg\" alt=\"Open In Colab\"/></a>"
      ]
    },
    {
      "cell_type": "markdown",
      "metadata": {
        "colab_type": "text",
        "id": "NC-jvvwAyW4D"
      },
      "source": [
        "##### Copyright 2019 The TensorFlow Authors."
      ]
    },
    {
      "cell_type": "code",
      "metadata": {
        "cellView": "form",
        "colab_type": "code",
        "id": "bw8YpxF4yT8a",
        "colab": {}
      },
      "source": [
        "#@title Licensed under the Apache License, Version 2.0 (the \"License\");\n",
        "# you may not use this file except in compliance with the License.\n",
        "# You may obtain a copy of the License at\n",
        "#\n",
        "# https://www.apache.org/licenses/LICENSE-2.0\n",
        "#\n",
        "# Unless required by applicable law or agreed to in writing, software\n",
        "# distributed under the License is distributed on an \"AS IS\" BASIS,\n",
        "# WITHOUT WARRANTIES OR CONDITIONS OF ANY KIND, either express or implied.\n",
        "# See the License for the specific language governing permissions and\n",
        "# limitations under the License."
      ],
      "execution_count": 0,
      "outputs": []
    },
    {
      "cell_type": "code",
      "metadata": {
        "id": "MOJPfmLuK4Ia",
        "colab_type": "code",
        "outputId": "dca8f251-1630-48dc-b3be-100e24abc163",
        "colab": {
          "base_uri": "https://localhost:8080/",
          "height": 50
        }
      },
      "source": [
        "from google.colab import drive\n",
        "#新notebook中使用需要授权\n",
        "drive.mount('/content/drive')\n",
        "path = \"/content/drive/My Drive/translate\"\n",
        "os.chdir(path)\n",
        "os.listdir(path)"
      ],
      "execution_count": 7,
      "outputs": [
        {
          "output_type": "stream",
          "text": [
            "Drive already mounted at /content/drive; to attempt to forcibly remount, call drive.mount(\"/content/drive\", force_remount=True).\n"
          ],
          "name": "stdout"
        },
        {
          "output_type": "execute_result",
          "data": {
            "text/plain": [
              "['“transformer_translate_tf1_15_fix_ipynb”Tpu版.ipynb', 'data']"
            ]
          },
          "metadata": {
            "tags": []
          },
          "execution_count": 7
        }
      ]
    },
    {
      "cell_type": "code",
      "metadata": {
        "colab_type": "code",
        "id": "mb_5bl7G_n30",
        "outputId": "6241cb7b-0618-45d2-c04f-f1a0321cf076",
        "colab": {
          "base_uri": "https://localhost:8080/",
          "height": 558
        }
      },
      "source": [
        "from __future__ import absolute_import, division, print_function, unicode_literals\n",
        "\n",
        "import tensorflow as tf\n",
        "\n",
        "!pip install tensorflow-datasets==1.3.0\n",
        "import tensorflow_datasets as tfds\n",
        "\n",
        "import os\n",
        "import re\n",
        "import numpy as np\n",
        "\n",
        "import matplotlib.pyplot as plt"
      ],
      "execution_count": 8,
      "outputs": [
        {
          "output_type": "stream",
          "text": [
            "Collecting tensorflow-datasets==1.3.0\n",
            "\u001b[?25l  Downloading https://files.pythonhosted.org/packages/e2/14/900746f9b8e1ed8ea93661f1a62b3937a5a25858d550ece38de8ea579f2d/tensorflow_datasets-1.3.0-py3-none-any.whl (2.4MB)\n",
            "\u001b[K     |████████████████████████████████| 2.4MB 3.5MB/s \n",
            "\u001b[?25hRequirement already satisfied: tensorflow-metadata in /usr/local/lib/python3.6/dist-packages (from tensorflow-datasets==1.3.0) (0.15.2)\n",
            "Requirement already satisfied: wrapt in /usr/local/lib/python3.6/dist-packages (from tensorflow-datasets==1.3.0) (1.11.2)\n",
            "Requirement already satisfied: six in /usr/local/lib/python3.6/dist-packages (from tensorflow-datasets==1.3.0) (1.12.0)\n",
            "Requirement already satisfied: requests>=2.19.0 in /usr/local/lib/python3.6/dist-packages (from tensorflow-datasets==1.3.0) (2.21.0)\n",
            "Requirement already satisfied: dill in /usr/local/lib/python3.6/dist-packages (from tensorflow-datasets==1.3.0) (0.3.1.1)\n",
            "Requirement already satisfied: numpy in /usr/local/lib/python3.6/dist-packages (from tensorflow-datasets==1.3.0) (1.17.5)\n",
            "Requirement already satisfied: tqdm in /usr/local/lib/python3.6/dist-packages (from tensorflow-datasets==1.3.0) (4.28.1)\n",
            "Requirement already satisfied: future in /usr/local/lib/python3.6/dist-packages (from tensorflow-datasets==1.3.0) (0.16.0)\n",
            "Requirement already satisfied: protobuf>=3.6.1 in /usr/local/lib/python3.6/dist-packages (from tensorflow-datasets==1.3.0) (3.10.0)\n",
            "Requirement already satisfied: promise in /usr/local/lib/python3.6/dist-packages (from tensorflow-datasets==1.3.0) (2.3)\n",
            "Requirement already satisfied: termcolor in /usr/local/lib/python3.6/dist-packages (from tensorflow-datasets==1.3.0) (1.1.0)\n",
            "Requirement already satisfied: absl-py in /usr/local/lib/python3.6/dist-packages (from tensorflow-datasets==1.3.0) (0.9.0)\n",
            "Requirement already satisfied: attrs in /usr/local/lib/python3.6/dist-packages (from tensorflow-datasets==1.3.0) (19.3.0)\n",
            "Requirement already satisfied: googleapis-common-protos in /usr/local/lib/python3.6/dist-packages (from tensorflow-metadata->tensorflow-datasets==1.3.0) (1.6.0)\n",
            "Requirement already satisfied: chardet<3.1.0,>=3.0.2 in /usr/local/lib/python3.6/dist-packages (from requests>=2.19.0->tensorflow-datasets==1.3.0) (3.0.4)\n",
            "Requirement already satisfied: idna<2.9,>=2.5 in /usr/local/lib/python3.6/dist-packages (from requests>=2.19.0->tensorflow-datasets==1.3.0) (2.8)\n",
            "Requirement already satisfied: urllib3<1.25,>=1.21.1 in /usr/local/lib/python3.6/dist-packages (from requests>=2.19.0->tensorflow-datasets==1.3.0) (1.24.3)\n",
            "Requirement already satisfied: certifi>=2017.4.17 in /usr/local/lib/python3.6/dist-packages (from requests>=2.19.0->tensorflow-datasets==1.3.0) (2019.11.28)\n",
            "Requirement already satisfied: setuptools in /usr/local/lib/python3.6/dist-packages (from protobuf>=3.6.1->tensorflow-datasets==1.3.0) (42.0.2)\n",
            "Installing collected packages: tensorflow-datasets\n",
            "  Found existing installation: tensorflow-datasets 1.3.2\n",
            "    Uninstalling tensorflow-datasets-1.3.2:\n",
            "      Successfully uninstalled tensorflow-datasets-1.3.2\n",
            "Successfully installed tensorflow-datasets-1.3.0\n"
          ],
          "name": "stdout"
        },
        {
          "output_type": "display_data",
          "data": {
            "application/vnd.colab-display-data+json": {
              "pip_warning": {
                "packages": [
                  "tensorflow_datasets"
                ]
              }
            }
          },
          "metadata": {
            "tags": []
          }
        }
      ]
    },
    {
      "cell_type": "code",
      "metadata": {
        "id": "k5Y_A3JRS6mk",
        "colab_type": "code",
        "outputId": "deb4050c-4ecf-4df3-bb94-541fdda39093",
        "colab": {
          "base_uri": "https://localhost:8080/",
          "height": 319
        }
      },
      "source": [
        "import os\n",
        "\n",
        "resolver = tf.distribute.cluster_resolver.TPUClusterResolver(tpu='grpc://' + os.environ['COLAB_TPU_ADDR'])\n",
        "tf.config.experimental_connect_to_host(resolver.master())\n",
        "tf.tpu.experimental.initialize_tpu_system(resolver)\n",
        "strategy = tf.distribute.experimental.TPUStrategy(resolver)\n"
      ],
      "execution_count": 5,
      "outputs": [
        {
          "output_type": "stream",
          "text": [
            "INFO:tensorflow:Initializing the TPU system: 10.83.139.130:8470\n",
            "INFO:tensorflow:Finished initializing TPU system.\n",
            "INFO:tensorflow:Querying Tensorflow master (grpc://10.83.139.130:8470) for TPU system metadata.\n",
            "INFO:tensorflow:Found TPU system:\n",
            "INFO:tensorflow:*** Num TPU Cores: 8\n",
            "INFO:tensorflow:*** Num TPU Workers: 1\n",
            "INFO:tensorflow:*** Num TPU Cores Per Worker: 8\n",
            "INFO:tensorflow:*** Available Device: _DeviceAttributes(/job:worker/replica:0/task:0/device:CPU:0, CPU, -1, 8136483491608166466)\n",
            "INFO:tensorflow:*** Available Device: _DeviceAttributes(/job:worker/replica:0/task:0/device:TPU:0, TPU, 17179869184, 13730495983243268496)\n",
            "INFO:tensorflow:*** Available Device: _DeviceAttributes(/job:worker/replica:0/task:0/device:TPU:1, TPU, 17179869184, 10402015307010821844)\n",
            "INFO:tensorflow:*** Available Device: _DeviceAttributes(/job:worker/replica:0/task:0/device:TPU:2, TPU, 17179869184, 10982199782541941373)\n",
            "INFO:tensorflow:*** Available Device: _DeviceAttributes(/job:worker/replica:0/task:0/device:TPU:3, TPU, 17179869184, 12329567941217486373)\n",
            "INFO:tensorflow:*** Available Device: _DeviceAttributes(/job:worker/replica:0/task:0/device:TPU:4, TPU, 17179869184, 15669570931367753998)\n",
            "INFO:tensorflow:*** Available Device: _DeviceAttributes(/job:worker/replica:0/task:0/device:TPU:5, TPU, 17179869184, 749668988117674644)\n",
            "INFO:tensorflow:*** Available Device: _DeviceAttributes(/job:worker/replica:0/task:0/device:TPU:6, TPU, 17179869184, 9595753696776923431)\n",
            "INFO:tensorflow:*** Available Device: _DeviceAttributes(/job:worker/replica:0/task:0/device:TPU:7, TPU, 17179869184, 17811873713353228727)\n",
            "INFO:tensorflow:*** Available Device: _DeviceAttributes(/job:worker/replica:0/task:0/device:TPU_SYSTEM:0, TPU_SYSTEM, 8589934592, 15089344134871410421)\n",
            "INFO:tensorflow:*** Available Device: _DeviceAttributes(/job:worker/replica:0/task:0/device:XLA_CPU:0, XLA_CPU, 17179869184, 13693712154790888818)\n"
          ],
          "name": "stdout"
        }
      ]
    },
    {
      "cell_type": "code",
      "metadata": {
        "colab_type": "code",
        "id": "_B147qKb_0ks",
        "colab": {}
      },
      "source": [
        "# Maximum number of samples to preprocess\n",
        "MAX_SAMPLES = 50001\n",
        "\n",
        "def preprocess_english_sentence(sentence):\n",
        "    sentence = sentence.lower().strip()\n",
        "    # creating a space between a word and the punctuation following it\n",
        "    # eg: \"he is a boy.\" => \"he is a boy .\"\n",
        "    sentence = re.sub(r\"([?.!,])\", r\" \\1 \", sentence)\n",
        "    sentence = re.sub(r'[\" \"]+', \" \", sentence)\n",
        "    # replacing everything with space except (a-z, A-Z, \".\", \"?\", \"!\", \",\")\n",
        "    sentence = re.sub(r\"[^a-zA-Z?.!,]+\", \" \", sentence)\n",
        "    sentence = sentence.strip()\n",
        "    # adding a start and an end token to the sentence\n",
        "    return sentence\n",
        "\n",
        "def preprocess_ch(sentence):\n",
        "    ret = []\n",
        "    for char in sentence:\n",
        "        if char == \" \" or char == \"\\t\": continue\n",
        "        ret.append(char)\n",
        "        ret.append(\" \")\n",
        "    s = \"\".join(ret)\n",
        "    return s.strip()\n",
        "\n",
        "def load_conversations(path_resource, path_dest):\n",
        "    with open(path_resource, errors='ignore', encoding=\"utf8\") as file:\n",
        "        resource = file.readlines()\n",
        "    with open(path_dest, errors='ignore', encoding=\"utf8\") as file:\n",
        "        dest = file.readlines()\n",
        "    inputs, outputs = [], []\n",
        "    for input, output in zip(resource, dest):\n",
        "        inputs.append(preprocess_english_sentence(input))\n",
        "        outputs.append(preprocess_ch(output))\n",
        "        if len(inputs) >= MAX_SAMPLES:\n",
        "            return inputs, outputs\n",
        "    return inputs, outputs\n",
        "\n",
        "\n",
        "resource, dest = load_conversations(\"data/test.en\", \"data/test.zh\")\n"
      ],
      "execution_count": 0,
      "outputs": []
    },
    {
      "cell_type": "code",
      "metadata": {
        "colab_type": "code",
        "id": "mfOOK5f7Wm6c",
        "outputId": "2e7205e3-6be7-4c64-ab6a-b7a917f5e562",
        "colab": {
          "base_uri": "https://localhost:8080/",
          "height": 67
        }
      },
      "source": [
        "print('Sample question: {}'.format(resource[-1]))\n",
        "print('Sample answer: {}'.format(dest[-1]))\n",
        "print(\"len of resource:{} dest:{}\".format(len(resource),len(dest)))"
      ],
      "execution_count": 10,
      "outputs": [
        {
          "output_type": "stream",
          "text": [
            "Sample question: a couple of kids fishing poles .\n",
            "Sample answer: 一 对 儿 童 鱼 竿 。\n",
            "len of resource:38 dest:38\n"
          ],
          "name": "stdout"
        }
      ]
    },
    {
      "cell_type": "code",
      "metadata": {
        "colab_type": "code",
        "id": "s6XX2udMTCQt",
        "colab": {}
      },
      "source": [
        "\n",
        "# Build tokenizer using tfds for both questions and answers\n",
        "tokenizer_resource = tfds.features.text.SubwordTextEncoder.build_from_corpus(\n",
        "    resource, target_vocab_size=2**13)\n",
        "\n",
        "# Define start and end token to indicate the start and end of a sentence\n",
        "START_TOKEN_RESOURCE, END_TOKEN_RESOURCE = [tokenizer_resource.vocab_size], [tokenizer_resource.vocab_size + 1]\n",
        "\n",
        "# Vocabulary size plus start and end token\n",
        "VOCAB_SIZE_RESOURCE = tokenizer_resource.vocab_size + 2\n",
        "\n",
        "# Build tokenizer using tfds for both questions and answers\n",
        "tokenizer_dest = tfds.features.text.SubwordTextEncoder.build_from_corpus(\n",
        "    dest, target_vocab_size=2**13)\n",
        "\n",
        "# Define start and end token to indicate the start and end of a sentence\n",
        "START_TOKEN_DEST, END_TOKEN_DEST = [tokenizer_dest.vocab_size], [tokenizer_dest.vocab_size + 1]\n",
        "\n",
        "# Vocabulary size plus start and end token\n",
        "VOCAB_SIZE_DEST = tokenizer_dest.vocab_size + 2"
      ],
      "execution_count": 0,
      "outputs": []
    },
    {
      "cell_type": "code",
      "metadata": {
        "colab_type": "code",
        "id": "h5h8pvRUTFt5",
        "colab": {
          "base_uri": "https://localhost:8080/",
          "height": 50
        },
        "outputId": "70f6a655-e98b-420b-84cc-b5e00a54ba3a"
      },
      "source": [
        "print('Tokenized sample question: {}'.format(tokenizer_resource.encode(resource[-1])))\n",
        "print('Tokenized sample dest: {}'.format(tokenizer_dest.encode(dest[-1])))"
      ],
      "execution_count": 12,
      "outputs": [
        {
          "output_type": "stream",
          "text": [
            "Tokenized sample question: [2, 5, 3, 120, 142, 90, 1]\n",
            "Tokenized sample dest: [1, 2, 10, 117, 77, 116, 3]\n"
          ],
          "name": "stdout"
        }
      ]
    },
    {
      "cell_type": "code",
      "metadata": {
        "colab_type": "code",
        "id": "YESTPgeg_XgT",
        "colab": {}
      },
      "source": [
        "# Maximum sentence length\n",
        "MAX_LENGTH_RESOURCE = 60\n",
        "MAX_LENGTH_DEST = 30\n",
        "\n",
        "# Tokenize, filter and pad sentences\n",
        "def tokenize_and_filter(inputs, outputs):\n",
        "  tokenized_inputs, tokenized_outputs = [], []\n",
        "  \n",
        "  for (sentence1, sentence2) in zip(inputs, outputs):\n",
        "    # tokenize sentence\n",
        "    sentence1 = START_TOKEN_RESOURCE + tokenizer_resource.encode(sentence1) + END_TOKEN_RESOURCE\n",
        "    sentence2 = START_TOKEN_DEST + tokenizer_dest.encode(sentence2) + END_TOKEN_DEST\n",
        "    # check tokenized sentence max length\n",
        "    if len(sentence1) <= MAX_LENGTH_RESOURCE and len(sentence2) <= MAX_LENGTH_DEST:\n",
        "        tokenized_inputs.append(sentence1)\n",
        "        tokenized_outputs.append(sentence2)\n",
        "  \n",
        "  # pad tokenized sentences\n",
        "  tokenized_inputs = tf.keras.preprocessing.sequence.pad_sequences(\n",
        "      tokenized_inputs, maxlen=MAX_LENGTH_RESOURCE, padding='post')\n",
        "  tokenized_outputs = tf.keras.preprocessing.sequence.pad_sequences(\n",
        "      tokenized_outputs, maxlen=MAX_LENGTH_DEST, padding='post')\n",
        "  \n",
        "  return tokenized_inputs, tokenized_outputs\n",
        "\n",
        "\n",
        "resource, dest = tokenize_and_filter(resource, dest)"
      ],
      "execution_count": 0,
      "outputs": []
    },
    {
      "cell_type": "code",
      "metadata": {
        "colab_type": "code",
        "id": "pohHm8IRWlIH",
        "outputId": "84e2f5e4-0639-44e2-ddc8-42d462c25102",
        "colab": {
          "base_uri": "https://localhost:8080/",
          "height": 121
        }
      },
      "source": [
        "print('Vocab size: {} dest: {}'.format(VOCAB_SIZE_RESOURCE,VOCAB_SIZE_DEST))\n",
        "print(tokenizer_resource.subwords)\n",
        "print(tokenizer_dest.subwords)\n",
        "print('Number of samples: {}'.format(len(resource)))\n",
        "print('Number of answers: {}'.format(len(dest)))"
      ],
      "execution_count": 14,
      "outputs": [
        {
          "output_type": "stream",
          "text": [
            "Vocab size: 454 dest: 525\n",
            "[' .', 'a_', 'of_', 'the_', 'couple_', ' , ', 'pair_', 'on_', 'in_', 's_', 'couple', ' ?', 'two_', 'to_', 'this_', ' ? ', ' . ', 'what', 'their_', 'one_', 'one', 'like_', 'i_', 'had_', 'for_', ' ,', 'with_', 'winner', 'who_', 'russian_', 'rifles', 'out_', 'nines', 'mortars', 'married_', 'look_', 'just_', 'fools_', 'five_', 'crates_', 'come_', 'around_', 'and_', 'an_', 'american_', 'young_', 'you_', 'you', 'yeah', 'wusses', 'worth_', 'will_', 'what_', 'went_', 'we_', 'washed_', 'walker_', 'up_', 'two', 'townhouse', 'tonight', 'think_', 'they_', 'that_', 'territory', 't_', 'successful_', 'stealing_', 'starting_', 'star_', 'staked_', 'sitting_', 'sisters', 'sister_', 'side', 'should_', 'seen_', 'seal_', 'scoops_', 'satisfy_', 'roof_', 'road_', 'rich_', 'republican_', 'relationship', 'red_', 'pushed_', 'pseudo_', 'proof_', 'poles', 'people_', 'pecan_', 'over_', 'our_', 'or_', 'open_', 'off_', 'off', 'odds', 'not_', 'never_', 'nesting_', 'nest_', 'neat_', 'nand_', 'middle_', 'methodists', 'mean', 'market_', 'magic', 'loving_', 'lovers_', 'lovers', 'life', 'lhamo', 'lethal_', 'lesbian_', 'last_', 'know', 'kids_', 'kidneys_', 'it_', 'is_', 'into_', 'incredibly_', 'if_', 'ideal', 'ice_', 'husband', 'him_', 'healthy_', 'heads_', 'have_', 'greatest_', 'grand', 'go_', 'fuck_', 'friends', 'found_', 'football_', 'fives', 'fishing_', 'fishermen_', 'fine_', 'fighting_', 'fight_', 'field', 'fellas_', 'fed', 'fear_', 'fake_', 'emotional_', 'east_', 'dynamic_', 'duo_', 'driving_', 'don_', 'does_', 'dinner', 'deuces_', 'desires', 'deal_', 'dead_', 'darlings', 'daddy_', 'crows_', 'crowned_', 'crossed_', 'cream', 'cranes_', 'corn_', 'convincing_', 'child', 'car', 'butter_', 'burton', 'bunch_', 'buddy', 'brother_', 'boys_', 'between_', 'better_', 'beach', 'back_', 'ass_', 'as_', 'aphrodisiac_', 'america_', 'ah', 'against_', 'against', 'administering_', 'about_', ' ! ', ' !']\n",
            "['一_', '对_', ' 。', '的_', ' ， ', '们_', ' ？', '是_', '国_', '儿_', '我_', '夫_', '像_', '什_', '人_', '五_', ' ？ ', '美_', '着_', '来_', '就_', '子_', '妇', '好_', '女_', '到_', '么', '为_', '不_', ' ，', ' 。 ', '顶_', '里_', '那_', '迫_', '过_', '起_', '见_', '胜', '箱_', '看_', '男_', '炮', '步_', '枪', '朋_', '最_', '晚_', '情_', '总_', '年_', '巢_', '它_', '婚_', '场_', '在_', '友', '击_', '共_', '傻_', '偷_', '健_', '假_', '俄_', '你_', '会_', '他_', '五', '二_', '了_', '了', '乖_', '上_', '上', '鹤_', '鸦_', '鱼_', '魔_', '飞_', '领_', '顿', '霉_', '门_', '钱_', '里', '道', '轻_', '车_', '距_', '足_', '谁', '诶', '该_', '计_', '视_', '要_', '被_', '药_', '致_', '臀_', '脑_', '脏_', '胡_', '胜_', '肾_', '而_', '者_', '老_', '给_', '结_', '纽_', '约_', '系', '算_', '筑_', '竿', '童_', '窝_', '程', '离', '知_', '监_', '的', '百_', '用_', '生_', '瓜_', '瓜', '理_', '球_', '现_', '爸_', '爱_', '热_', '烈_', '激_', '滩_', '满_', '渡_', '渔_', '淋', '淇_', '注_', '波_', '法', '油_', '没_', '沙_', '沃_', '民_', '死_', '正_', '欲_', '橄_', '榄_', '桃_', '格_', '木_', '望', '服_', '有_', '春_', '旅_', '敲_', '教_', '携_', '持_', '拉_', '担_', '手_', '战_', '或_', '成_', '意_', '想_', '恋_', '性_', '思', '心', '徒', '开_', '康_', '废', '应_', '并_', '席_', '市_', '已_', '屋_', '小_', '将_', '对', '密_', '宴', '定_', '子', '姐_', '妹_', '妹', '妈_', '妇_', '奶_', '夫', '天_', '大_', '壮_', '墅_', '块', '坐_', '地', '囊_', '啊', '哥_', '和_', '命_', '员_', '吵', '后_', '名_', '同_', '只_', '发_', '去_', '卫_', '区_', '功_', '别_', '出_', '冲_', '冰_', '关_', '公_', '全_', '党_', '克_', '兄_', '儿', '倒_', '俪_', '信_', '保_', '俏_', '侣', '体_', '住_', '传_', '伙_', '价_', '令_', '仔_', '今_', '亲_', '二', '事', '争_', '九_', '九', '乌_', '么_', '丹_', '东_', '专_', '下_', '丈_', '万_', ' ！']\n",
            "Number of samples: 38\n",
            "Number of answers: 38\n"
          ],
          "name": "stdout"
        }
      ]
    },
    {
      "cell_type": "markdown",
      "metadata": {
        "colab_type": "text",
        "id": "S50jT4upWh5c"
      },
      "source": [
        "### Create `tf.data.Dataset`\n",
        "\n",
        "We are going to use the [tf.data.Dataset API](https://www.tensorflow.org/api_docs/python/tf/data) to contruct our input pipline in order to utilize features like caching and prefetching to speed up the training process.\n",
        "\n",
        "The transformer is an auto-regressive model: it makes predictions one part at a time, and uses its output so far to decide what to do next.\n",
        "\n",
        "During training this example uses teacher-forcing. Teacher forcing is passing the true output to the next time step regardless of what the model predicts at the current time step.\n",
        "\n",
        "As the transformer predicts each word, self-attention allows it to look at the previous words in the input sequence to better predict the next word.\n",
        "\n",
        "To prevent the model from peaking at the expected output the model uses a look-ahead mask.\n",
        "\n",
        "Target is divided into `decoder_inputs` which padded as an input to the decoder and `cropped_targets` for calculating our loss and accuracy."
      ]
    },
    {
      "cell_type": "code",
      "metadata": {
        "colab_type": "code",
        "id": "pttC3XxgAXWQ",
        "colab": {}
      },
      "source": [
        "BATCH_SIZE = 128\n",
        "BUFFER_SIZE = 20000\n",
        "\n",
        "# decoder inputs use the previous target as input\n",
        "# remove START_TOKEN from targets\n",
        "\n",
        "dataset = tf.data.Dataset.from_tensor_slices((\n",
        "    {\n",
        "        'inputs': resource,\n",
        "        'dec_inputs': dest[:, :-1]\n",
        "    },\n",
        "    {\n",
        "        'outputs': dest[:, 1:]\n",
        "    },\n",
        "))\n",
        "\n",
        "dataset = dataset.cache()\n",
        "dataset = dataset.shuffle(BUFFER_SIZE)\n",
        "dataset = dataset.repeat()\n",
        "dataset = dataset.batch(BATCH_SIZE)\n",
        "# dataset = dataset.prefetch(tf.data.experimental.AUTOTUNE)"
      ],
      "execution_count": 0,
      "outputs": []
    },
    {
      "cell_type": "code",
      "metadata": {
        "colab_type": "code",
        "id": "mU8yNWpwPlS7",
        "outputId": "cc3ac0c7-c128-4346-e1e7-4e6dcf92cec2",
        "colab": {
          "base_uri": "https://localhost:8080/",
          "height": 34
        }
      },
      "source": [
        "print(dataset)"
      ],
      "execution_count": 16,
      "outputs": [
        {
          "output_type": "stream",
          "text": [
            "<DatasetV1Adapter shapes: ({inputs: (?, 60), dec_inputs: (?, 29)}, {outputs: (?, 29)}), types: ({inputs: tf.int32, dec_inputs: tf.int32}, {outputs: tf.int32})>\n"
          ],
          "name": "stdout"
        }
      ]
    },
    {
      "cell_type": "markdown",
      "metadata": {
        "colab_type": "text",
        "id": "s9eeMPjGXmI1"
      },
      "source": [
        "## Attention\n",
        "\n"
      ]
    },
    {
      "cell_type": "markdown",
      "metadata": {
        "colab_type": "text",
        "id": "uctkwvPZVSzu"
      },
      "source": [
        "### Scaled dot product Attention\n",
        "\n",
        "The scaled dot-product attention function used by the transformer takes three inputs: Q (query), K (key), V (value). The equation used to calculate the attention weights is:\n",
        "\n",
        "$$\\Large{Attention(Q, K, V) = softmax_k(\\frac{QK^T}{\\sqrt{d_k}}) V} $$\n",
        "\n",
        "As the softmax normalization is done on the `key`, its values decide the amount of importance given to the `query`.\n",
        "\n",
        "The output represents the multiplication of the attention weights and the `value` vector. This ensures that the words we want to focus on are kept as is and the irrelevant words are flushed out.\n",
        "\n",
        "The dot-product attention is scaled by a factor of square root of the depth. This is done because for large values of depth, the dot product grows large in magnitude pushing the softmax function where it has small gradients resulting in a very hard softmax. \n",
        "\n",
        "For example, consider that `query` and `key` have a mean of 0 and variance of 1. Their matrix multiplication will have a mean of 0 and variance of `dk`. Hence, *square root of `dk`* is used for scaling (and not any other number) because the matmul of `query` and `key` should have a mean of 0 and variance of 1, so that we get a gentler softmax.\n",
        "\n",
        "The mask is multiplied with *-1e9 (close to negative infinity).* This is done because the mask is summed with the scaled matrix multiplication of `query` and `key` and is applied immediately before a softmax. The goal is to zero out these cells, and large negative inputs to softmax are near zero in the output."
      ]
    },
    {
      "cell_type": "code",
      "metadata": {
        "colab_type": "code",
        "id": "ENfqAFna_50H",
        "colab": {}
      },
      "source": [
        "def scaled_dot_product_attention(query, key, value, mask):\n",
        "  \"\"\"Calculate the attention weights. \"\"\"\n",
        "  matmul_qk = tf.matmul(query, key, transpose_b=True)\n",
        "\n",
        "  # scale matmul_qk\n",
        "  depth = tf.cast(tf.shape(key)[-1], tf.float32)\n",
        "  logits = matmul_qk / tf.math.sqrt(depth)\n",
        "\n",
        "  # add the mask to zero out padding tokens\n",
        "  if mask is not None:\n",
        "    logits += (mask * -1e9)\n",
        "\n",
        "  # softmax is normalized on the last axis (seq_len_k)\n",
        "  attention_weights = tf.nn.softmax(logits, axis=-1)\n",
        "\n",
        "  output = tf.matmul(attention_weights, value)\n",
        "\n",
        "  return output"
      ],
      "execution_count": 0,
      "outputs": []
    },
    {
      "cell_type": "markdown",
      "metadata": {
        "colab_type": "text",
        "id": "XwmOB9HvVbyh"
      },
      "source": [
        "### Multi-head attention\n",
        "\n",
        "<img src=\"https://www.tensorflow.org/images/tutorials/transformer/multi_head_attention.png\" width=\"500\" alt=\"multi-head attention\">\n",
        "\n",
        "\n",
        "Multi-head attention consists of four parts:\n",
        "* Linear layers and split into heads.\n",
        "* Scaled dot-product attention.\n",
        "* Concatenation of heads.\n",
        "* Final linear layer.\n",
        "\n",
        "Each multi-head attention block gets three inputs; Q (query), K (key), V (value). These are put through linear (Dense) layers and split up into multiple heads. \n",
        "\n",
        "The `scaled_dot_product_attention` defined above is applied to each head (broadcasted for efficiency). An appropriate mask must be used in the attention step.  The attention output for each head is then concatenated (using `tf.transpose`, and `tf.reshape`) and put through a final `Dense` layer.\n",
        "\n",
        "Instead of one single attention head, `query`, `key`, and `value` are split into multiple heads because it allows the model to jointly attend to information at different positions from different representational spaces. After the split each head has a reduced dimensionality, so the total computation cost is the same as a single head attention with full dimensionality."
      ]
    },
    {
      "cell_type": "code",
      "metadata": {
        "colab_type": "code",
        "id": "L9eYssGIAG4h",
        "colab": {}
      },
      "source": [
        "class MultiHeadAttention(tf.keras.layers.Layer):\n",
        "\n",
        "  def __init__(self, d_model, num_heads, name=\"multi_head_attention\"):\n",
        "    super(MultiHeadAttention, self).__init__(name=name)\n",
        "    self.num_heads = num_heads\n",
        "    self.d_model = d_model\n",
        "\n",
        "    assert d_model % self.num_heads == 0\n",
        "\n",
        "    self.depth = d_model // self.num_heads\n",
        "\n",
        "    self.query_dense = tf.keras.layers.Dense(units=d_model)\n",
        "    self.key_dense = tf.keras.layers.Dense(units=d_model)\n",
        "    self.value_dense = tf.keras.layers.Dense(units=d_model)\n",
        "\n",
        "    self.dense = tf.keras.layers.Dense(units=d_model)\n",
        "\n",
        "  def split_heads(self, inputs, batch_size):\n",
        "    inputs = tf.reshape(\n",
        "        inputs, shape=(batch_size, -1, self.num_heads, self.depth))\n",
        "    return tf.transpose(inputs, perm=[0, 2, 1, 3])\n",
        "\n",
        "  def call(self, inputs):\n",
        "    query, key, value, mask = inputs['query'], inputs['key'], inputs[\n",
        "        'value'], inputs['mask']\n",
        "    batch_size = tf.shape(query)[0]\n",
        "\n",
        "    # linear layers\n",
        "    query = self.query_dense(query)\n",
        "    key = self.key_dense(key)\n",
        "    value = self.value_dense(value)\n",
        "\n",
        "    # split heads\n",
        "    query = self.split_heads(query, batch_size)\n",
        "    key = self.split_heads(key, batch_size)\n",
        "    value = self.split_heads(value, batch_size)\n",
        "\n",
        "    # scaled dot-product attention\n",
        "    scaled_attention = scaled_dot_product_attention(query, key, value, mask)\n",
        "\n",
        "    scaled_attention = tf.transpose(scaled_attention, perm=[0, 2, 1, 3])\n",
        "\n",
        "    # concatenation of heads\n",
        "    concat_attention = tf.reshape(scaled_attention,\n",
        "                                  (batch_size, -1, self.d_model))\n",
        "\n",
        "    # final linear layer\n",
        "    outputs = self.dense(concat_attention)\n",
        "\n",
        "    return outputs\n",
        "\n",
        "  def get_config(self):\n",
        "    return {   \"num_heads\":self.num_heads,\n",
        "            \"d_model\":self.d_model,\n",
        "            \"depth\":self.depth,\n",
        "            \"query_dense\":self.query_dense,\n",
        "            \"key_dense\":self.key_dense,\n",
        "            \"value_dense\":self.value_dense,\n",
        "            \"dense\":self.dense}"
      ],
      "execution_count": 0,
      "outputs": []
    },
    {
      "cell_type": "code",
      "metadata": {
        "colab_type": "code",
        "id": "imCQ0jrvWhC7",
        "colab": {}
      },
      "source": [
        "def create_padding_mask(x):\n",
        "  mask = tf.cast(tf.math.equal(x, 0), tf.float32)\n",
        "  # (batch_size, 1, 1, sequence length)\n",
        "  return mask[:, tf.newaxis, tf.newaxis, :]"
      ],
      "execution_count": 0,
      "outputs": []
    },
    {
      "cell_type": "code",
      "metadata": {
        "colab_type": "code",
        "id": "HSVdD2zKWaXx",
        "colab": {}
      },
      "source": [
        "def create_look_ahead_mask(x):\n",
        "  seq_len = tf.shape(x)[1]\n",
        "  look_ahead_mask = 1 - tf.linalg.band_part(tf.ones((seq_len, seq_len)), -1, 0)\n",
        "  padding_mask = create_padding_mask(x)\n",
        "  return tf.maximum(look_ahead_mask, padding_mask)"
      ],
      "execution_count": 0,
      "outputs": []
    },
    {
      "cell_type": "code",
      "metadata": {
        "colab_type": "code",
        "id": "-9Oibz2es-qW",
        "colab": {}
      },
      "source": [
        "class PositionalEncoding(tf.keras.layers.Layer):\n",
        "\n",
        "  def __init__(self, position, d_model):\n",
        "    super(PositionalEncoding, self).__init__()\n",
        "    self.pos_encoding = self.positional_encoding(position, d_model)\n",
        "\n",
        "  def get_angles(self, position, i, d_model):\n",
        "    angles = 1 / tf.pow(10000.0, (2 * (i // 2)) / tf.cast(d_model, tf.float32))\n",
        "    return position * angles\n",
        "\n",
        "  def positional_encoding(self, position, d_model):\n",
        "    angle_rads = self.get_angles(\n",
        "        position=tf.range(position, dtype=tf.float32)[:, tf.newaxis],\n",
        "        i=tf.range(d_model, dtype=tf.float32)[tf.newaxis, :],\n",
        "        d_model=d_model)\n",
        "    # apply sin to even index in the array\n",
        "    sines = tf.math.sin(angle_rads[:, 0::2])\n",
        "    # apply cos to odd index in the array\n",
        "    cosines = tf.math.cos(angle_rads[:, 1::2])\n",
        "\n",
        "    pos_encoding = tf.concat([sines, cosines], axis=-1)\n",
        "    pos_encoding = pos_encoding[tf.newaxis, ...]\n",
        "    return tf.cast(pos_encoding, tf.float32)\n",
        "\n",
        "  def call(self, inputs):\n",
        "    return inputs + self.pos_encoding[:, :tf.shape(inputs)[1], :]\n",
        "\n",
        "  def get_config(self):\n",
        "    return {'pos_encoding': self.pos_encoding}"
      ],
      "execution_count": 0,
      "outputs": []
    },
    {
      "cell_type": "code",
      "metadata": {
        "colab_type": "code",
        "id": "5guJOLJmfcuX",
        "colab": {}
      },
      "source": [
        "def encoder_layer(units, d_model, num_heads, dropout, name=\"encoder_layer\"):\n",
        "  inputs = tf.keras.Input(shape=(None, d_model), name=\"inputs\")\n",
        "  padding_mask = tf.keras.Input(shape=(1, 1, None), name=\"padding_mask\")\n",
        "\n",
        "  attention = MultiHeadAttention(\n",
        "      d_model, num_heads, name=\"attention\")({\n",
        "          'query': inputs,\n",
        "          'key': inputs,\n",
        "          'value': inputs,\n",
        "          'mask': padding_mask\n",
        "      })\n",
        "  attention = tf.keras.layers.Dropout(rate=dropout)(attention)\n",
        "  attention = tf.keras.layers.LayerNormalization(\n",
        "      epsilon=1e-6)(inputs + attention)\n",
        "\n",
        "  outputs = tf.keras.layers.Dense(units=units, activation='relu')(attention)\n",
        "  outputs = tf.keras.layers.Dense(units=d_model)(outputs)\n",
        "  outputs = tf.keras.layers.Dropout(rate=dropout)(outputs)\n",
        "  outputs = tf.keras.layers.LayerNormalization(\n",
        "      epsilon=1e-6)(attention + outputs)\n",
        "\n",
        "  return tf.keras.Model(\n",
        "      inputs=[inputs, padding_mask], outputs=outputs, name=name)"
      ],
      "execution_count": 0,
      "outputs": []
    },
    {
      "cell_type": "markdown",
      "metadata": {
        "colab_type": "text",
        "id": "9r8lWGClfi_1"
      },
      "source": [
        "### Encoder\n",
        "\n",
        "The Encoder consists of:\n",
        "1.   Input Embedding\n",
        "2.   Positional Encoding\n",
        "3.   `num_layers` encoder layers\n",
        "\n",
        "The input is put through an embedding which is summed with the positional encoding. The output of this summation is the input to the encoder layers. The output of the encoder is the input to the decoder."
      ]
    },
    {
      "cell_type": "code",
      "metadata": {
        "colab_type": "code",
        "id": "LRfugon5Wy-Y",
        "colab": {}
      },
      "source": [
        "def encoder(vocab_size,\n",
        "            num_layers,\n",
        "            units,\n",
        "            d_model,\n",
        "            num_heads,\n",
        "            dropout,\n",
        "            name=\"encoder\"):\n",
        "  inputs = tf.keras.Input(shape=(None,), name=\"inputs\")\n",
        "  padding_mask = tf.keras.Input(shape=(1, 1, None), name=\"padding_mask\")\n",
        "\n",
        "  embeddings = tf.keras.layers.Embedding(vocab_size, d_model)(inputs)\n",
        "  embeddings *= tf.math.sqrt(tf.cast(d_model, tf.float32))\n",
        "  embeddings = PositionalEncoding(vocab_size, d_model)(embeddings)\n",
        "\n",
        "  outputs = tf.keras.layers.Dropout(rate=dropout)(embeddings)\n",
        "\n",
        "  for i in range(num_layers):\n",
        "    outputs = encoder_layer(\n",
        "        units=units,\n",
        "        d_model=d_model,\n",
        "        num_heads=num_heads,\n",
        "        dropout=dropout,\n",
        "        name=\"encoder_layer_{}\".format(i),\n",
        "    )([outputs, padding_mask])\n",
        "\n",
        "  return tf.keras.Model(\n",
        "      inputs=[inputs, padding_mask], outputs=outputs, name=name)"
      ],
      "execution_count": 0,
      "outputs": []
    },
    {
      "cell_type": "markdown",
      "metadata": {
        "colab_type": "text",
        "id": "af66azvgW9P-"
      },
      "source": [
        "### Decoder Layer\n",
        "\n",
        "Each decoder layer consists of sublayers:\n",
        "\n",
        "1.   Masked multi-head attention (with look ahead mask and padding mask)\n",
        "2.   Multi-head attention (with padding mask). `value` and `key` receive the *encoder output* as inputs. `query` receives the *output from the masked multi-head attention sublayer.*\n",
        "3.   2 dense layers followed by dropout\n",
        "\n",
        "Each of these sublayers has a residual connection around it followed by a layer normalization. The output of each sublayer is `LayerNorm(x + Sublayer(x))`. The normalization is done on the `d_model` (last) axis.\n",
        "\n",
        "As `query` receives the output from decoder's first attention block, and `key` receives the encoder output, the attention weights represent the importance given to the decoder's input based on the encoder's output. In other words, the decoder predicts the next word by looking at the encoder output and self-attending to its own output. See the demonstration above in the scaled dot product attention section."
      ]
    },
    {
      "cell_type": "code",
      "metadata": {
        "colab_type": "code",
        "id": "6mLvvNMWgDnf",
        "colab": {}
      },
      "source": [
        "def decoder_layer(units, d_model, num_heads, dropout, name=\"decoder_layer\"):\n",
        "  inputs = tf.keras.Input(shape=(None, d_model), name=\"inputs\")\n",
        "  enc_outputs = tf.keras.Input(shape=(None, d_model), name=\"encoder_outputs\")\n",
        "  look_ahead_mask = tf.keras.Input(\n",
        "      shape=(1, None, None), name=\"look_ahead_mask\")\n",
        "  padding_mask = tf.keras.Input(shape=(1, 1, None), name='padding_mask')\n",
        "\n",
        "  attention1 = MultiHeadAttention(\n",
        "      d_model, num_heads, name=\"attention_1\")(inputs={\n",
        "          'query': inputs,\n",
        "          'key': inputs,\n",
        "          'value': inputs,\n",
        "          'mask': look_ahead_mask\n",
        "      })\n",
        "  attention1 = tf.keras.layers.LayerNormalization(\n",
        "      epsilon=1e-6)(attention1 + inputs)\n",
        "\n",
        "  attention2 = MultiHeadAttention(\n",
        "      d_model, num_heads, name=\"attention_2\")(inputs={\n",
        "          'query': attention1,\n",
        "          'key': enc_outputs,\n",
        "          'value': enc_outputs,\n",
        "          'mask': padding_mask\n",
        "      })\n",
        "  attention2 = tf.keras.layers.Dropout(rate=dropout)(attention2)\n",
        "  attention2 = tf.keras.layers.LayerNormalization(\n",
        "      epsilon=1e-6)(attention2 + attention1)\n",
        "\n",
        "  outputs = tf.keras.layers.Dense(units=units, activation='relu')(attention2)\n",
        "  outputs = tf.keras.layers.Dense(units=d_model)(outputs)\n",
        "  outputs = tf.keras.layers.Dropout(rate=dropout)(outputs)\n",
        "  outputs = tf.keras.layers.LayerNormalization(\n",
        "      epsilon=1e-6)(outputs + attention2)\n",
        "\n",
        "  return tf.keras.Model(\n",
        "      inputs=[inputs, enc_outputs, look_ahead_mask, padding_mask],\n",
        "      outputs=outputs,\n",
        "      name=name)"
      ],
      "execution_count": 0,
      "outputs": []
    },
    {
      "cell_type": "markdown",
      "metadata": {
        "colab_type": "text",
        "id": "NPSKnjS-gE_q"
      },
      "source": [
        "### Decoder\n",
        "\n",
        "The Decoder consists of:\n",
        "1.   Output Embedding\n",
        "2.   Positional Encoding\n",
        "3.   N decoder layers\n",
        "\n",
        "The target is put through an embedding which is summed with the positional encoding. The output of this summation is the input to the decoder layers. The output of the decoder is the input to the final linear layer."
      ]
    },
    {
      "cell_type": "code",
      "metadata": {
        "colab_type": "code",
        "id": "dYRx7YzCW4bu",
        "colab": {}
      },
      "source": [
        "def decoder(vocab_size,\n",
        "            num_layers,\n",
        "            units,\n",
        "            d_model,\n",
        "            num_heads,\n",
        "            dropout,\n",
        "            name='decoder'):\n",
        "  inputs = tf.keras.Input(shape=(None,), name='inputs')\n",
        "  enc_outputs = tf.keras.Input(shape=(None, d_model), name='encoder_outputs')\n",
        "  look_ahead_mask = tf.keras.Input(\n",
        "      shape=(1, None, None), name='look_ahead_mask')\n",
        "  padding_mask = tf.keras.Input(shape=(1, 1, None), name='padding_mask')\n",
        "  \n",
        "  embeddings = tf.keras.layers.Embedding(vocab_size, d_model)(inputs)\n",
        "  embeddings *= tf.math.sqrt(tf.cast(d_model, tf.float32))\n",
        "  embeddings = PositionalEncoding(vocab_size, d_model)(embeddings)\n",
        "\n",
        "  outputs = tf.keras.layers.Dropout(rate=dropout)(embeddings)\n",
        "\n",
        "  for i in range(num_layers):\n",
        "    outputs = decoder_layer(\n",
        "        units=units,\n",
        "        d_model=d_model,\n",
        "        num_heads=num_heads,\n",
        "        dropout=dropout,\n",
        "        name='decoder_layer_{}'.format(i),\n",
        "    )(inputs=[outputs, enc_outputs, look_ahead_mask, padding_mask])\n",
        "\n",
        "  return tf.keras.Model(\n",
        "      inputs=[inputs, enc_outputs, look_ahead_mask, padding_mask],\n",
        "      outputs=outputs,\n",
        "      name=name)"
      ],
      "execution_count": 0,
      "outputs": []
    },
    {
      "cell_type": "markdown",
      "metadata": {
        "colab_type": "text",
        "id": "yl0o97RJXAqw"
      },
      "source": [
        "### Transformer\n",
        "\n",
        "Transformer consists of the encoder, decoder and a final linear layer. The output of the decoder is the input to the linear layer and its output is returned."
      ]
    },
    {
      "cell_type": "code",
      "metadata": {
        "colab_type": "code",
        "id": "TW-v7Fz6XAfC",
        "colab": {}
      },
      "source": [
        "def transformer(vocab_size_resource,\n",
        "                vocab_size_dest,\n",
        "            num_layers,\n",
        "            units,\n",
        "            d_model,\n",
        "            num_heads,\n",
        "            dropout,\n",
        "            name=\"transformer\"):\n",
        "  inputs = tf.keras.Input(shape=(None,), name=\"inputs\")\n",
        "  dec_inputs = tf.keras.Input(shape=(None,), name=\"dec_inputs\")\n",
        "\n",
        "  enc_padding_mask = tf.keras.layers.Lambda(\n",
        "      create_padding_mask, output_shape=(1, 1, None),\n",
        "      name='enc_padding_mask')(inputs)\n",
        "  # mask the future tokens for decoder inputs at the 1st attention block\n",
        "  look_ahead_mask = tf.keras.layers.Lambda(\n",
        "      create_look_ahead_mask,\n",
        "      output_shape=(1, None, None),\n",
        "      name='look_ahead_mask')(dec_inputs)\n",
        "  # mask the encoder outputs for the 2nd attention block\n",
        "  dec_padding_mask = tf.keras.layers.Lambda(\n",
        "      create_padding_mask, output_shape=(1, 1, None),\n",
        "      name='dec_padding_mask')(inputs)\n",
        "\n",
        "  enc_outputs = encoder(\n",
        "      vocab_size=vocab_size_resource,\n",
        "      num_layers=num_layers,\n",
        "      units=units,\n",
        "      d_model=d_model,\n",
        "      num_heads=num_heads,\n",
        "      dropout=dropout,\n",
        "  )(inputs=[inputs, enc_padding_mask])\n",
        "\n",
        "  dec_outputs = decoder(\n",
        "      vocab_size=vocab_size_dest,\n",
        "      num_layers=num_layers,\n",
        "      units=units,\n",
        "      d_model=d_model,\n",
        "      num_heads=num_heads,\n",
        "      dropout=dropout,\n",
        "  )(inputs=[dec_inputs, enc_outputs, look_ahead_mask, dec_padding_mask])\n",
        "\n",
        "  outputs = tf.keras.layers.Dense(units=vocab_size_dest, name=\"outputs\")(dec_outputs)\n",
        "\n",
        "  return tf.keras.Model(inputs=[inputs, dec_inputs], outputs=outputs, name=name)"
      ],
      "execution_count": 0,
      "outputs": []
    },
    {
      "cell_type": "markdown",
      "metadata": {
        "colab_type": "text",
        "id": "PDDxNpA-5Q5t"
      },
      "source": [
        "### Initialize model\n",
        "\n",
        "To keep this example small and relatively fast, the values for *num_layers, d_model, and units* have been reduced. See the [paper](https://arxiv.org/abs/1706.03762) for all the other versions of the transformer."
      ]
    },
    {
      "cell_type": "code",
      "metadata": {
        "colab_type": "code",
        "id": "xE3unrOT5M5z",
        "colab": {}
      },
      "source": [
        "# tf.keras.backend.clear_session()\n",
        "\n",
        "# Hyper-parameters\n",
        "NUM_LAYERS = 2\n",
        "D_MODEL = 256\n",
        "NUM_HEADS = 8\n",
        "UNITS = 512\n",
        "DROPOUT = 0.1\n",
        "\n"
      ],
      "execution_count": 0,
      "outputs": []
    },
    {
      "cell_type": "markdown",
      "metadata": {
        "colab_type": "text",
        "id": "0_GCb0LaV1tI"
      },
      "source": [
        "### Loss function\n",
        "\n",
        "Since the target sequences are padded, it is important to apply a padding mask when calculating the loss."
      ]
    },
    {
      "cell_type": "code",
      "metadata": {
        "colab_type": "code",
        "id": "UInVM9iGAMv1",
        "colab": {}
      },
      "source": [
        "def loss_function(y_true, y_pred):\n",
        "  y_true = tf.reshape(y_true, shape=(-1, MAX_LENGTH_DEST - 1))\n",
        "  \n",
        "  loss = tf.keras.losses.SparseCategoricalCrossentropy(\n",
        "      from_logits=True, reduction='none')(y_true, y_pred)\n",
        "\n",
        "  mask = tf.cast(tf.not_equal(y_true, 0), tf.float32)\n",
        "  loss = tf.multiply(loss, mask)\n",
        "\n",
        "  return tf.reduce_mean(loss)"
      ],
      "execution_count": 0,
      "outputs": []
    },
    {
      "cell_type": "markdown",
      "metadata": {
        "colab_type": "text",
        "id": "XvFM9ajSVybP"
      },
      "source": [
        "### Custom learning rate\n",
        "\n",
        "Use the Adam optimizer with a custom learning rate scheduler according to the formula in the [paper](https://arxiv.org/abs/1706.03762).\n",
        "\n",
        "$$\\Large{lrate = d_{model}^{-0.5} * min(step{\\_}num^{-0.5}, step{\\_}num * warmup{\\_}steps^{-1.5})}$$"
      ]
    },
    {
      "cell_type": "code",
      "metadata": {
        "colab_type": "code",
        "id": "WW3SeLDhAMJd",
        "colab": {}
      },
      "source": [
        "class CustomSchedule(tf.keras.optimizers.schedules.LearningRateSchedule):\n",
        "\n",
        "  def __init__(self, d_model, warmup_steps=4000):\n",
        "    super(CustomSchedule, self).__init__()\n",
        "\n",
        "    self.d_model = d_model\n",
        "    self.d_model = tf.cast(self.d_model, tf.float32)\n",
        "\n",
        "    self.warmup_steps = warmup_steps\n",
        "\n",
        "  def __call__(self, step):\n",
        "    arg1 = tf.math.rsqrt(step)\n",
        "    arg2 = step * (self.warmup_steps**-1.5)\n",
        "\n",
        "    return tf.math.rsqrt(self.d_model) * tf.math.minimum(arg1, arg2)"
      ],
      "execution_count": 0,
      "outputs": []
    },
    {
      "cell_type": "code",
      "metadata": {
        "colab_type": "code",
        "id": "67BoG_UeaHHw",
        "colab": {}
      },
      "source": [
        "# sample_learning_rate = CustomSchedule(d_model=128)\n",
        "\n",
        "# plt.plot(sample_learning_rate(tf.range(200000, dtype=tf.float32)))\n",
        "# plt.ylabel(\"Learning Rate\")\n",
        "# plt.xlabel(\"Train Step\")"
      ],
      "execution_count": 0,
      "outputs": []
    },
    {
      "cell_type": "markdown",
      "metadata": {
        "colab_type": "text",
        "id": "cCqve3kwWCxd"
      },
      "source": [
        "### Compile Model\n"
      ]
    },
    {
      "cell_type": "code",
      "metadata": {
        "colab_type": "code",
        "id": "1QqojIa5WEQq",
        "colab": {}
      },
      "source": [
        "with strategy.scope():\n",
        "\n",
        "    learning_rate = CustomSchedule(D_MODEL)\n",
        "\n",
        "    optimizer = tf.keras.optimizers.Adam(\n",
        "    learning_rate, beta_1=0.9, beta_2=0.98, epsilon=1e-9)\n",
        "\n",
        "    def accuracy(y_true, y_pred):\n",
        "  # ensure labels have shape (batch_size, MAX_LENGTH - 1)\n",
        "        y_true = tf.reshape(y_true, shape=(-1, MAX_LENGTH_DEST - 1))\n",
        "        return tf.keras.metrics.sparse_categorical_accuracy(y_true, y_pred)\n",
        "    model = transformer(\n",
        "        vocab_size_resource=VOCAB_SIZE_RESOURCE,\n",
        "        vocab_size_dest=VOCAB_SIZE_DEST,\n",
        "        num_layers=NUM_LAYERS,\n",
        "        units=UNITS,\n",
        "        d_model=D_MODEL,\n",
        "        num_heads=NUM_HEADS,\n",
        "        dropout=DROPOUT)\n",
        "    model.compile(optimizer=optimizer, loss=loss_function, metrics=[accuracy])"
      ],
      "execution_count": 0,
      "outputs": []
    },
    {
      "cell_type": "markdown",
      "metadata": {
        "colab_type": "text",
        "id": "vDMd69urLNuc"
      },
      "source": [
        "### Fit model\n",
        "\n",
        "Train our transformer by simply calling `model.fit()`"
      ]
    },
    {
      "cell_type": "code",
      "metadata": {
        "id": "pL_BZfp3AS3Z",
        "colab_type": "code",
        "outputId": "c7cd6a7c-855a-4d01-e486-fe330a86c5a4",
        "colab": {
          "base_uri": "https://localhost:8080/",
          "height": 487
        }
      },
      "source": [
        "model.summary()"
      ],
      "execution_count": 37,
      "outputs": [
        {
          "output_type": "stream",
          "text": [
            "Model: \"transformer\"\n",
            "__________________________________________________________________________________________________\n",
            "Layer (type)                    Output Shape         Param #     Connected to                     \n",
            "==================================================================================================\n",
            "inputs (InputLayer)             [(None, None)]       0                                            \n",
            "__________________________________________________________________________________________________\n",
            "dec_inputs (InputLayer)         [(None, None)]       0                                            \n",
            "__________________________________________________________________________________________________\n",
            "enc_padding_mask (Lambda)       (None, 1, 1, None)   0           inputs[0][0]                     \n",
            "__________________________________________________________________________________________________\n",
            "encoder (Model)                 (None, None, 256)    1170432     inputs[0][0]                     \n",
            "                                                                 enc_padding_mask[0][0]           \n",
            "__________________________________________________________________________________________________\n",
            "look_ahead_mask (Lambda)        (None, 1, None, None 0           dec_inputs[0][0]                 \n",
            "__________________________________________________________________________________________________\n",
            "dec_padding_mask (Lambda)       (None, 1, 1, None)   0           inputs[0][0]                     \n",
            "__________________________________________________________________________________________________\n",
            "decoder (Model)                 (None, None, 256)    1715968     dec_inputs[0][0]                 \n",
            "                                                                 encoder[1][0]                    \n",
            "                                                                 look_ahead_mask[0][0]            \n",
            "                                                                 dec_padding_mask[0][0]           \n",
            "__________________________________________________________________________________________________\n",
            "outputs (Dense)                 (None, None, 525)    134925      decoder[1][0]                    \n",
            "==================================================================================================\n",
            "Total params: 3,021,325\n",
            "Trainable params: 3,021,325\n",
            "Non-trainable params: 0\n",
            "__________________________________________________________________________________________________\n"
          ],
          "name": "stdout"
        }
      ]
    },
    {
      "cell_type": "code",
      "metadata": {
        "colab_type": "code",
        "id": "d7iahRzlLNG2",
        "outputId": "47a1c434-d242-435b-da9c-687cf26ea882",
        "colab": {
          "base_uri": "https://localhost:8080/",
          "height": 101
        }
      },
      "source": [
        "EPOCHS = 2\n",
        "steps_per_epoch = MAX_SAMPLES//BATCH_SIZE\n",
        "\n",
        "model.fit(dataset,steps_per_epoch=steps_per_epoch,epochs=EPOCHS)"
      ],
      "execution_count": 38,
      "outputs": [
        {
          "output_type": "stream",
          "text": [
            "Epoch 1/2\n",
            "390/390 [==============================] - 20s 52ms/step - loss: 1.4159 - accuracy: 0.2855\n",
            "Epoch 2/2\n",
            "390/390 [==============================] - 13s 32ms/step - loss: 0.0093 - accuracy: 0.4946\n"
          ],
          "name": "stdout"
        },
        {
          "output_type": "execute_result",
          "data": {
            "text/plain": [
              "<tensorflow.python.keras.callbacks.History at 0x7f678846df28>"
            ]
          },
          "metadata": {
            "tags": []
          },
          "execution_count": 38
        }
      ]
    },
    {
      "cell_type": "markdown",
      "metadata": {
        "colab_type": "text",
        "id": "p1DUXog6WqV-"
      },
      "source": [
        "## Evaluate and predict\n",
        "\n",
        "The following steps are used for evaluation:\n",
        "\n",
        "* Apply the same preprocessing method we used to create our dataset for the input sentence.\n",
        "* Tokenize the input sentence and add `START_TOKEN` and `END_TOKEN`. \n",
        "* Calculate the padding masks and the look ahead masks.\n",
        "* The decoder then outputs the predictions by looking at the encoder output and its own output.\n",
        "* Select the last word and calculate the argmax of that.\n",
        "* Concatentate the predicted word to the decoder input as pass it to the decoder.\n",
        "* In this approach, the decoder predicts the next word based on the previous words it predicted.\n",
        "\n",
        "Note: The model used here has less capacity and trained on a subset of the full dataset, hence its performance can be further improved."
      ]
    },
    {
      "cell_type": "code",
      "metadata": {
        "colab_type": "code",
        "id": "_NjsS3zuAbRn",
        "colab": {}
      },
      "source": [
        "import time\n",
        "\n",
        "def evaluate(sentence):\n",
        "    sentence = preprocess_english_sentence(sentence)\n",
        "\n",
        "    sentence = tf.expand_dims(\n",
        "        START_TOKEN_RESOURCE + tokenizer_resource.encode(sentence) + END_TOKEN_RESOURCE, axis=0)\n",
        "\n",
        "    output = tf.expand_dims(START_TOKEN_DEST, 0)\n",
        "    start = time.time()\n",
        "    for i in range(MAX_LENGTH_DEST):\n",
        "        predictions = model(inputs=[sentence, output], training=False)\n",
        "        print(\"predictions time:\", time.time() - start)\n",
        "        start = time.time()\n",
        "        # select the last word from the seq_len dimension\n",
        "        predictions = predictions[:, -1:, :]\n",
        "        predicted_id = tf.cast(tf.argmax(predictions, axis=-1), tf.int32)\n",
        "\n",
        "        # return the result if the predicted_id is equal to the end token\n",
        "        # if tf.equal(predicted_id, END_TOKEN[0]):\n",
        "        #   break\n",
        "\n",
        "        # concatenated the predicted_id to the output which is given to the decoder\n",
        "        # as its input.\n",
        "        output = tf.concat([output, predicted_id], axis=-1)\n",
        "        print(\"others time:\", time.time() - start)\n",
        "        start = time.time()\n",
        "    return tf.squeeze(output, axis=0)\n",
        "\n",
        "\n",
        "def predict(sentence):\n",
        "    start = time.time()\n",
        "    prediction = evaluate(sentence)\n",
        "    print(\"prediction:\", prediction)\n",
        "    print(\"others time:\", time.time() - start)\n",
        "    start = time.time()\n",
        "    sess = tf.keras.backend.get_session()\n",
        "    print(\"get session time:\", time.time() - start)\n",
        "    start = time.time()\n",
        "    ids = prediction.eval(session=sess)\n",
        "    print(\"eval time 1:\", time.time() - start)\n",
        "    start = time.time()\n",
        "    ids = [i for i in ids]\n",
        "    print(\"eval time 2:\", time.time() - start)\n",
        "    start = time.time()\n",
        "    if END_TOKEN_DEST[0] in ids:\n",
        "        index = ids.index(END_TOKEN_DEST[0])\n",
        "        ids = ids[:index]\n",
        "    ids = [i for i in ids if i < tokenizer_dest.vocab_size]\n",
        "\n",
        "    print(\"get ids time:\", time.time() - start)\n",
        "    start = time.time()\n",
        "    predicted_sentence = tokenizer_dest.decode(ids)\n",
        "    print(\"tokenizer.decode time:\", time.time() - start)\n",
        "    start = time.time()\n",
        "    print('Input: {}'.format(sentence))\n",
        "    print('Output: {}'.format(predicted_sentence))\n",
        "\n",
        "    return predicted_sentence\n"
      ],
      "execution_count": 0,
      "outputs": []
    },
    {
      "cell_type": "markdown",
      "metadata": {
        "colab_type": "text",
        "id": "9J3Jdtk2P-RT"
      },
      "source": [
        "Let's test our model!"
      ]
    },
    {
      "cell_type": "code",
      "metadata": {
        "colab_type": "code",
        "id": "6IeMSGEgRTvC",
        "outputId": "ee86e0d7-ec25-4496-e086-ae0287bd5d8b",
        "colab": {
          "base_uri": "https://localhost:8080/",
          "height": 1000
        }
      },
      "source": [
        "\n",
        "output = predict('In my opinion , this is very smart.')"
      ],
      "execution_count": 40,
      "outputs": [
        {
          "output_type": "stream",
          "text": [
            "predictions time: 0.6424820423126221\n",
            "others time: 0.0050470829010009766\n",
            "predictions time: 0.6563045978546143\n",
            "others time: 0.004833698272705078\n",
            "predictions time: 0.657548189163208\n",
            "others time: 0.005303621292114258\n",
            "predictions time: 0.6481480598449707\n",
            "others time: 0.00683903694152832\n",
            "predictions time: 0.6582152843475342\n",
            "others time: 0.005807399749755859\n",
            "predictions time: 0.6538500785827637\n",
            "others time: 0.005560398101806641\n",
            "predictions time: 0.6554925441741943\n",
            "others time: 0.005369901657104492\n",
            "predictions time: 0.6386280059814453\n",
            "others time: 0.004794120788574219\n",
            "predictions time: 0.6143608093261719\n",
            "others time: 0.005173444747924805\n",
            "predictions time: 0.6227796077728271\n",
            "others time: 0.00570368766784668\n",
            "predictions time: 0.6461598873138428\n",
            "others time: 0.005300045013427734\n",
            "predictions time: 0.6602671146392822\n",
            "others time: 0.005071878433227539\n",
            "predictions time: 0.937431812286377\n",
            "others time: 0.00533604621887207\n",
            "predictions time: 0.6460938453674316\n",
            "others time: 0.005266904830932617\n",
            "predictions time: 0.6391885280609131\n",
            "others time: 0.006039857864379883\n",
            "predictions time: 0.6490402221679688\n",
            "others time: 0.0056247711181640625\n",
            "predictions time: 0.6584839820861816\n",
            "others time: 0.00545501708984375\n",
            "predictions time: 0.6469271183013916\n",
            "others time: 0.005371570587158203\n",
            "predictions time: 0.6371586322784424\n",
            "others time: 0.0054073333740234375\n",
            "predictions time: 0.6466388702392578\n",
            "others time: 0.005446672439575195\n",
            "predictions time: 0.6469697952270508\n",
            "others time: 0.005079984664916992\n",
            "predictions time: 0.6636843681335449\n",
            "others time: 0.005504131317138672\n",
            "predictions time: 0.6644835472106934\n",
            "others time: 0.0057220458984375\n",
            "predictions time: 0.6660428047180176\n",
            "others time: 0.005512714385986328\n",
            "predictions time: 0.6492030620574951\n",
            "others time: 0.004959583282470703\n",
            "predictions time: 0.6506896018981934\n",
            "others time: 0.004942893981933594\n",
            "predictions time: 0.6369147300720215\n",
            "others time: 0.005586147308349609\n",
            "predictions time: 0.6554701328277588\n",
            "others time: 0.005481719970703125\n",
            "predictions time: 0.6341195106506348\n",
            "others time: 0.0052492618560791016\n",
            "predictions time: 0.6287376880645752\n",
            "others time: 0.004935503005981445\n",
            "prediction: Tensor(\"Squeeze:0\", shape=(31,), dtype=int32)\n",
            "others time: 19.905444622039795\n",
            "get session time: 0.0008246898651123047\n",
            "eval time 1: 15.471974611282349\n",
            "eval time 2: 2.6464462280273438e-05\n",
            "get ids time: 0.00015115737915039062\n",
            "tokenizer.decode time: 0.00012540817260742188\n",
            "Input: In my opinion , this is very smart.\n",
            "Output: 一 对 五 。 一 对 五 。 胜 算 不 大 啊 。\n"
          ],
          "name": "stdout"
        }
      ]
    },
    {
      "cell_type": "code",
      "metadata": {
        "id": "Ot_-djCRQSpg",
        "colab_type": "code",
        "outputId": "b11e36f1-be07-478e-bd4c-b220b25b645c",
        "colab": {
          "base_uri": "https://localhost:8080/",
          "height": 1000
        }
      },
      "source": [
        "output = predict('how s the weather today .')\n",
        "output = predict('May I ask you a favor ?')\n",
        "output = predict('bye')"
      ],
      "execution_count": 41,
      "outputs": [
        {
          "output_type": "stream",
          "text": [
            "predictions time: 0.634620189666748\n",
            "others time: 0.005126237869262695\n",
            "predictions time: 0.6374859809875488\n",
            "others time: 0.004746913909912109\n",
            "predictions time: 0.6320114135742188\n",
            "others time: 0.0052928924560546875\n",
            "predictions time: 0.9787411689758301\n",
            "others time: 0.0053255558013916016\n",
            "predictions time: 0.6324326992034912\n",
            "others time: 0.005323886871337891\n",
            "predictions time: 0.6491189002990723\n",
            "others time: 0.005151033401489258\n",
            "predictions time: 0.6095895767211914\n",
            "others time: 0.00540924072265625\n",
            "predictions time: 0.6279106140136719\n",
            "others time: 0.005545854568481445\n",
            "predictions time: 0.6340477466583252\n",
            "others time: 0.005110502243041992\n",
            "predictions time: 0.6544733047485352\n",
            "others time: 0.005346059799194336\n",
            "predictions time: 0.6550054550170898\n",
            "others time: 0.00557255744934082\n",
            "predictions time: 0.6481413841247559\n",
            "others time: 0.005658626556396484\n",
            "predictions time: 0.656029224395752\n",
            "others time: 0.005881071090698242\n",
            "predictions time: 0.6531870365142822\n",
            "others time: 0.005446195602416992\n",
            "predictions time: 0.6471202373504639\n",
            "others time: 0.005929470062255859\n",
            "predictions time: 0.6523401737213135\n",
            "others time: 0.005804538726806641\n",
            "predictions time: 0.6583516597747803\n",
            "others time: 0.005696535110473633\n",
            "predictions time: 0.6461277008056641\n",
            "others time: 0.005049467086791992\n",
            "predictions time: 0.635490894317627\n",
            "others time: 0.0049860477447509766\n",
            "predictions time: 0.6210949420928955\n",
            "others time: 0.004983663558959961\n",
            "predictions time: 0.608752965927124\n",
            "others time: 0.00560760498046875\n",
            "predictions time: 0.6404891014099121\n",
            "others time: 0.005131959915161133\n",
            "predictions time: 0.6069564819335938\n",
            "others time: 0.005121946334838867\n",
            "predictions time: 0.6461493968963623\n",
            "others time: 0.005755424499511719\n",
            "predictions time: 0.6535241603851318\n",
            "others time: 0.005177021026611328\n",
            "predictions time: 0.6729922294616699\n",
            "others time: 0.005926370620727539\n",
            "predictions time: 0.6367852687835693\n",
            "others time: 0.005316734313964844\n",
            "predictions time: 0.621152400970459\n",
            "others time: 0.00502467155456543\n",
            "predictions time: 0.6243934631347656\n",
            "others time: 0.005372762680053711\n",
            "predictions time: 0.9816553592681885\n",
            "others time: 0.006135463714599609\n",
            "prediction: Tensor(\"Squeeze_1:0\", shape=(31,), dtype=int32)\n",
            "others time: 20.051397562026978\n",
            "get session time: 0.0007028579711914062\n",
            "eval time 1: 17.197547912597656\n",
            "eval time 2: 2.9325485229492188e-05\n",
            "get ids time: 0.00013756752014160156\n",
            "tokenizer.decode time: 0.00013446807861328125\n",
            "Input: how s the weather today .\n",
            "Output: 一 对 五 。 一 对 五 。 胜 算 不 大 啊 。\n",
            "predictions time: 0.6348316669464111\n",
            "others time: 0.005517721176147461\n",
            "predictions time: 0.6376030445098877\n",
            "others time: 0.005218029022216797\n",
            "predictions time: 0.6377654075622559\n",
            "others time: 0.006020784378051758\n",
            "predictions time: 0.6443889141082764\n",
            "others time: 0.005509614944458008\n",
            "predictions time: 0.6428115367889404\n",
            "others time: 0.0050165653228759766\n",
            "predictions time: 0.6269316673278809\n",
            "others time: 0.0053288936614990234\n",
            "predictions time: 0.6334733963012695\n",
            "others time: 0.005356550216674805\n",
            "predictions time: 0.6357700824737549\n",
            "others time: 0.005450010299682617\n",
            "predictions time: 0.6397686004638672\n",
            "others time: 0.005375862121582031\n",
            "predictions time: 0.6305520534515381\n",
            "others time: 0.004892110824584961\n",
            "predictions time: 0.6230864524841309\n",
            "others time: 0.0051805973052978516\n",
            "predictions time: 0.6053996086120605\n",
            "others time: 0.005233287811279297\n",
            "predictions time: 0.622410774230957\n",
            "others time: 0.00521087646484375\n",
            "predictions time: 0.6212782859802246\n",
            "others time: 0.0050373077392578125\n",
            "predictions time: 0.6036171913146973\n",
            "others time: 0.0050008296966552734\n",
            "predictions time: 0.6254322528839111\n",
            "others time: 0.0050847530364990234\n",
            "predictions time: 0.630216121673584\n",
            "others time: 0.005209684371948242\n",
            "predictions time: 0.6032171249389648\n",
            "others time: 0.005301475524902344\n",
            "predictions time: 0.6255552768707275\n",
            "others time: 0.0055234432220458984\n",
            "predictions time: 0.6124651432037354\n",
            "others time: 0.005149364471435547\n",
            "predictions time: 0.6132278442382812\n",
            "others time: 0.004666566848754883\n",
            "predictions time: 0.6117954254150391\n",
            "others time: 0.00549006462097168\n",
            "predictions time: 0.6377842426300049\n",
            "others time: 0.005127906799316406\n",
            "predictions time: 0.6535229682922363\n",
            "others time: 0.005042552947998047\n",
            "predictions time: 0.6523141860961914\n",
            "others time: 0.005410194396972656\n",
            "predictions time: 0.6490886211395264\n",
            "others time: 0.004831075668334961\n",
            "predictions time: 0.6594655513763428\n",
            "others time: 0.00503993034362793\n",
            "predictions time: 0.6715540885925293\n",
            "others time: 0.005408287048339844\n",
            "predictions time: 0.6607837677001953\n",
            "others time: 0.005248069763183594\n",
            "predictions time: 0.6678006649017334\n",
            "others time: 0.005901336669921875\n",
            "prediction: Tensor(\"Squeeze_2:0\", shape=(31,), dtype=int32)\n",
            "others time: 19.201294422149658\n",
            "get session time: 0.0007219314575195312\n",
            "eval time 1: 19.68069553375244\n",
            "eval time 2: 2.5510787963867188e-05\n",
            "get ids time: 0.00019431114196777344\n",
            "tokenizer.decode time: 0.0001926422119140625\n",
            "Input: May I ask you a favor ?\n",
            "Output: 一 对 乌 鸦 飞 到 我 们 屋 顶 上 的 巢 里 ， 它 们 好 像 专 门 为 拉 木 而 来 的 。\n",
            "predictions time: 0.6444165706634521\n",
            "others time: 0.004761695861816406\n",
            "predictions time: 0.6379334926605225\n",
            "others time: 0.005244255065917969\n",
            "predictions time: 1.0879065990447998\n",
            "others time: 0.005090236663818359\n",
            "predictions time: 0.6466686725616455\n",
            "others time: 0.005060434341430664\n",
            "predictions time: 0.6251132488250732\n",
            "others time: 0.0058672428131103516\n",
            "predictions time: 0.6349973678588867\n",
            "others time: 0.0048427581787109375\n",
            "predictions time: 0.6558687686920166\n",
            "others time: 0.005345582962036133\n",
            "predictions time: 0.6515021324157715\n",
            "others time: 0.0053403377532958984\n",
            "predictions time: 0.6710286140441895\n",
            "others time: 0.005448341369628906\n",
            "predictions time: 0.6544396877288818\n",
            "others time: 0.0051004886627197266\n",
            "predictions time: 0.6576542854309082\n",
            "others time: 0.005814313888549805\n",
            "predictions time: 0.6546773910522461\n",
            "others time: 0.005338430404663086\n",
            "predictions time: 0.6433537006378174\n",
            "others time: 0.005125522613525391\n",
            "predictions time: 0.6460957527160645\n",
            "others time: 0.005685091018676758\n",
            "predictions time: 0.6463398933410645\n",
            "others time: 0.005625486373901367\n",
            "predictions time: 0.665008544921875\n",
            "others time: 0.0053653717041015625\n",
            "predictions time: 0.6601569652557373\n",
            "others time: 0.005482196807861328\n",
            "predictions time: 0.6545355319976807\n",
            "others time: 0.005727529525756836\n",
            "predictions time: 0.6356513500213623\n",
            "others time: 0.0054051876068115234\n",
            "predictions time: 0.6346867084503174\n",
            "others time: 0.0054779052734375\n",
            "predictions time: 0.6175634860992432\n",
            "others time: 0.005514621734619141\n",
            "predictions time: 0.6085989475250244\n",
            "others time: 0.00532078742980957\n",
            "predictions time: 0.6214139461517334\n",
            "others time: 0.005364418029785156\n",
            "predictions time: 0.6434586048126221\n",
            "others time: 0.005594491958618164\n",
            "predictions time: 0.647383451461792\n",
            "others time: 0.005266427993774414\n",
            "predictions time: 0.6430628299713135\n",
            "others time: 0.005641460418701172\n",
            "predictions time: 0.6595032215118408\n",
            "others time: 0.006353616714477539\n",
            "predictions time: 0.6456620693206787\n",
            "others time: 0.005506992340087891\n",
            "predictions time: 0.6467471122741699\n",
            "others time: 0.005747079849243164\n",
            "predictions time: 0.6596837043762207\n",
            "others time: 0.005735158920288086\n",
            "prediction: Tensor(\"Squeeze_3:0\", shape=(31,), dtype=int32)\n",
            "others time: 19.991923332214355\n",
            "get session time: 0.0009031295776367188\n",
            "eval time 1: 22.83184552192688\n",
            "eval time 2: 2.5033950805664062e-05\n",
            "get ids time: 9.107589721679688e-05\n",
            "tokenizer.decode time: 8.58306884765625e-05\n",
            "Input: bye\n",
            "Output: 一 对 五 百 诶 。\n"
          ],
          "name": "stdout"
        }
      ]
    },
    {
      "cell_type": "code",
      "metadata": {
        "colab_type": "code",
        "id": "ivVgU6ydRV8R",
        "colab": {}
      },
      "source": [
        "# output = predict(\"It's a trap\")"
      ],
      "execution_count": 0,
      "outputs": []
    },
    {
      "cell_type": "code",
      "metadata": {
        "colab_type": "code",
        "id": "s5zG7i8KAtRU",
        "colab": {}
      },
      "source": [
        "# # feed the model with its previous output\n",
        "# sentence = 'I am not crazy, my mother had me tested.'\n",
        "# for _ in range(5):\n",
        "#   sentence = predict(sentence)\n",
        "#   print('')"
      ],
      "execution_count": 0,
      "outputs": []
    },
    {
      "cell_type": "code",
      "metadata": {
        "id": "2CBSiZJ5b4nO",
        "colab_type": "code",
        "colab": {}
      },
      "source": [
        "model.save_weights('/content/drive/My Drive/translate/transformer_translate_cn_weights.h5')\n",
        "# model.save('/content/drive/My Drive/gdrive/transformer_chatbot_cn.h5')\n",
        "tokenizer_resource.save_to_file(\"resource_vocab\")\n",
        "tokenizer_dest.save_to_file(\"dest_vocab\")"
      ],
      "execution_count": 0,
      "outputs": []
    },
    {
      "cell_type": "code",
      "metadata": {
        "id": "GyYOs3GUk8lt",
        "colab_type": "code",
        "outputId": "79c1877e-9d8f-4869-d991-235c442db9e9",
        "colab": {
          "base_uri": "https://localhost:8080/",
          "height": 1000
        }
      },
      "source": [
        "del model\n",
        "model = transformer(\n",
        "    vocab_size_resource=VOCAB_SIZE_RESOURCE,\n",
        "    vocab_size_dest=VOCAB_SIZE_DEST,\n",
        "    num_layers=NUM_LAYERS,\n",
        "    units=UNITS,\n",
        "    d_model=D_MODEL,\n",
        "    num_heads=NUM_HEADS,\n",
        "    dropout=DROPOUT)\n",
        "model.load_weights(\"/content/drive/My Drive/translate/transformer_translate_cn_weights.h5\")\n",
        "tokenizer_resource.load_from_file(\"resource_vocab\")\n",
        "tokenizer_dest.load_from_file(\"dest_vocab\")\n",
        "output = predict('hi , long time no see .')"
      ],
      "execution_count": 47,
      "outputs": [
        {
          "output_type": "stream",
          "text": [
            "predictions time: 0.5956630706787109\n",
            "others time: 0.007515430450439453\n",
            "predictions time: 0.600454568862915\n",
            "others time: 0.005198955535888672\n",
            "predictions time: 0.6065874099731445\n",
            "others time: 0.0050716400146484375\n",
            "predictions time: 0.6189320087432861\n",
            "others time: 0.004744052886962891\n",
            "predictions time: 0.6110286712646484\n",
            "others time: 0.005135059356689453\n",
            "predictions time: 0.609612226486206\n",
            "others time: 0.0055484771728515625\n",
            "predictions time: 1.1526410579681396\n",
            "others time: 0.005269765853881836\n",
            "predictions time: 0.618891716003418\n",
            "others time: 0.005459308624267578\n",
            "predictions time: 0.6170616149902344\n",
            "others time: 0.005332231521606445\n",
            "predictions time: 0.6296944618225098\n",
            "others time: 0.005694866180419922\n",
            "predictions time: 0.6254332065582275\n",
            "others time: 0.005384206771850586\n",
            "predictions time: 0.6213409900665283\n",
            "others time: 0.0051746368408203125\n",
            "predictions time: 0.6096799373626709\n",
            "others time: 0.0053119659423828125\n",
            "predictions time: 0.6202230453491211\n",
            "others time: 0.005181074142456055\n",
            "predictions time: 0.6149163246154785\n",
            "others time: 0.005010128021240234\n",
            "predictions time: 0.6131412982940674\n",
            "others time: 0.006930112838745117\n",
            "predictions time: 0.6138441562652588\n",
            "others time: 0.005105018615722656\n",
            "predictions time: 0.6140742301940918\n",
            "others time: 0.0054128170013427734\n",
            "predictions time: 0.6161906719207764\n",
            "others time: 0.004999876022338867\n",
            "predictions time: 0.6132607460021973\n",
            "others time: 0.005166769027709961\n",
            "predictions time: 0.6152141094207764\n",
            "others time: 0.005249977111816406\n",
            "predictions time: 0.6136863231658936\n",
            "others time: 0.005390644073486328\n",
            "predictions time: 0.616175651550293\n",
            "others time: 0.005148649215698242\n",
            "predictions time: 0.6173801422119141\n",
            "others time: 0.00572967529296875\n",
            "predictions time: 0.6137206554412842\n",
            "others time: 0.0053484439849853516\n",
            "predictions time: 0.6269879341125488\n",
            "others time: 0.005661487579345703\n",
            "predictions time: 0.623180627822876\n",
            "others time: 0.006391286849975586\n",
            "predictions time: 0.6237380504608154\n",
            "others time: 0.005648612976074219\n",
            "predictions time: 0.6205224990844727\n",
            "others time: 0.0055141448974609375\n",
            "predictions time: 0.6337978839874268\n",
            "others time: 0.006039857864379883\n",
            "prediction: Tensor(\"Squeeze_4:0\", shape=(31,), dtype=int32)\n",
            "others time: 19.220142364501953\n",
            "get session time: 0.0008943080902099609\n",
            "eval time 1: 28.34651494026184\n",
            "eval time 2: 2.8371810913085938e-05\n",
            "get ids time: 0.00013494491577148438\n",
            "tokenizer.decode time: 0.00012421607971191406\n",
            "Input: hi , long time no see .\n",
            "Output: 一 对 五 。 一 对 五 。 胜 算 不 大 啊 。\n"
          ],
          "name": "stdout"
        }
      ]
    },
    {
      "cell_type": "markdown",
      "metadata": {
        "colab_type": "text",
        "id": "5-dGPc14QnAP"
      },
      "source": [
        "## Summary\n",
        "\n",
        "Here we are, we have implemented a Transformer in TensorFlow 2.0 in around 500 lines of code.\n",
        "\n",
        "In this tutorial, we focus on the two different approaches to implement complex models with Functional API and Model subclassing, and how to incorporate them.\n",
        "\n",
        "Try using a different dataset or hyper-parameters to train the Transformer! Thanks for reading.\n"
      ]
    }
  ]
}